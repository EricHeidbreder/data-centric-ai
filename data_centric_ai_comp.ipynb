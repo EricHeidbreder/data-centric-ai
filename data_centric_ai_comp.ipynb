{
  "nbformat": 4,
  "nbformat_minor": 0,
  "metadata": {
    "colab": {
      "name": "data_centric_ai_comp.ipynb",
      "provenance": [],
      "collapsed_sections": [],
      "authorship_tag": "ABX9TyM5+/qsQ5GKMbsIzKTCEprP",
      "include_colab_link": true
    },
    "kernelspec": {
      "name": "python3",
      "display_name": "Python 3"
    },
    "language_info": {
      "name": "python"
    }
  },
  "cells": [
    {
      "cell_type": "markdown",
      "metadata": {
        "id": "view-in-github",
        "colab_type": "text"
      },
      "source": [
        "<a href=\"https://colab.research.google.com/github/tcole333/data-centric-ai/blob/tcole/data_centric_ai_comp.ipynb\" target=\"_parent\"><img src=\"https://colab.research.google.com/assets/colab-badge.svg\" alt=\"Open In Colab\"/></a>"
      ]
    },
    {
      "cell_type": "code",
      "metadata": {
        "id": "ZgLzoq8ndlTm"
      },
      "source": [
        "import requests\n",
        "import tarfile\n",
        "import io\n",
        "import numpy as np\n",
        "from PIL import Image\n",
        "from matplotlib import pyplot as plt\n",
        "import pandas as pd\n",
        "from keras.preprocessing.image import ImageDataGenerator, array_to_img, img_to_array, load_img\n",
        "from tensorflow.python.keras.preprocessing import dataset_utils\n",
        "import os\n",
        "import tensorflow as tf\n",
        "from tensorflow import keras\n",
        "import json\n",
        "import sys"
      ],
      "execution_count": 18,
      "outputs": []
    },
    {
      "cell_type": "code",
      "metadata": {
        "id": "_Dp2H0C3sk14"
      },
      "source": [
        "#clear directories so you have a fresh start\n",
        "!rm -r '/content/data'\n",
        "!rm -r '/content/data_preprocessed'"
      ],
      "execution_count": 15,
      "outputs": []
    },
    {
      "cell_type": "code",
      "metadata": {
        "colab": {
          "base_uri": "https://localhost:8080/",
          "height": 871
        },
        "id": "j8dAnIhSdZ14",
        "outputId": "50d5ab86-6045-4846-e48b-3299a545f597"
      },
      "source": [
        "#download the files from github and extract them and move the sample labels to a new folder called test\n",
        "!wget https://github.com/tcole333/data-centric-ai/blob/main/data.tar.gz?raw=true\n",
        "tar = tarfile.open('data.tar.gz?raw=true')\n",
        "tar.extractall()\n",
        "!wget https://github.com/tcole333/data-centric-ai/blob/main/label_book.tar.gz?raw=true\n",
        "tar = tarfile.open('label_book.tar.gz?raw=true')\n",
        "tar.extractall()\n",
        "#set up the folder structure for the preprocessed data\n",
        "!mv \"/content/label_book\" \"/content/data/test\"\n",
        "!mkdir '/content/data_preprocessed'\n",
        "!mkdir '/content/data_preprocessed/train'\n",
        "!mkdir '/content/data_preprocessed/val'\n",
        "!for num in i ii iii iv v vi vii viii ix x; do mkdir /content/data_preprocessed/train/$num ; mkdir /content/data_preprocessed/val/$num; done\n",
        "!cp -r '/content/data/test' '/content/data_preprocessed/test'\n"
      ],
      "execution_count": 16,
      "outputs": [
        {
          "output_type": "stream",
          "text": [
            "--2021-06-23 15:55:53--  https://github.com/tcole333/data-centric-ai/blob/main/data.tar.gz?raw=true\n",
            "Resolving github.com (github.com)... 140.82.121.4\n",
            "Connecting to github.com (github.com)|140.82.121.4|:443... connected.\n",
            "HTTP request sent, awaiting response... 302 Found\n",
            "Location: https://github.com/tcole333/data-centric-ai/raw/main/data.tar.gz [following]\n",
            "--2021-06-23 15:55:53--  https://github.com/tcole333/data-centric-ai/raw/main/data.tar.gz\n",
            "Reusing existing connection to github.com:443.\n",
            "HTTP request sent, awaiting response... 302 Found\n",
            "Location: https://raw.githubusercontent.com/tcole333/data-centric-ai/main/data.tar.gz [following]\n",
            "--2021-06-23 15:55:53--  https://raw.githubusercontent.com/tcole333/data-centric-ai/main/data.tar.gz\n",
            "Resolving raw.githubusercontent.com (raw.githubusercontent.com)... 185.199.110.133, 185.199.109.133, 185.199.111.133, ...\n",
            "Connecting to raw.githubusercontent.com (raw.githubusercontent.com)|185.199.110.133|:443... connected.\n",
            "HTTP request sent, awaiting response... 200 OK\n",
            "Length: 4115570 (3.9M) [application/octet-stream]\n",
            "Saving to: ‘data.tar.gz?raw=true.7’\n",
            "\n",
            "data.tar.gz?raw=tru 100%[===================>]   3.92M  --.-KB/s    in 0.1s    \n",
            "\n",
            "2021-06-23 15:55:53 (34.9 MB/s) - ‘data.tar.gz?raw=true.7’ saved [4115570/4115570]\n",
            "\n",
            "--2021-06-23 15:55:54--  https://github.com/tcole333/data-centric-ai/blob/main/label_book.tar.gz?raw=true\n",
            "Resolving github.com (github.com)... 140.82.121.4\n",
            "Connecting to github.com (github.com)|140.82.121.4|:443... connected.\n",
            "HTTP request sent, awaiting response... 302 Found\n",
            "Location: https://github.com/tcole333/data-centric-ai/raw/main/label_book.tar.gz [following]\n",
            "--2021-06-23 15:55:54--  https://github.com/tcole333/data-centric-ai/raw/main/label_book.tar.gz\n",
            "Reusing existing connection to github.com:443.\n",
            "HTTP request sent, awaiting response... 302 Found\n",
            "Location: https://raw.githubusercontent.com/tcole333/data-centric-ai/main/label_book.tar.gz [following]\n",
            "--2021-06-23 15:55:54--  https://raw.githubusercontent.com/tcole333/data-centric-ai/main/label_book.tar.gz\n",
            "Resolving raw.githubusercontent.com (raw.githubusercontent.com)... 185.199.108.133, 185.199.109.133, 185.199.111.133, ...\n",
            "Connecting to raw.githubusercontent.com (raw.githubusercontent.com)|185.199.108.133|:443... connected.\n",
            "HTTP request sent, awaiting response... 200 OK\n",
            "Length: 82328 (80K) [application/octet-stream]\n",
            "Saving to: ‘label_book.tar.gz?raw=true.7’\n",
            "\n",
            "label_book.tar.gz?r 100%[===================>]  80.40K  --.-KB/s    in 0.006s  \n",
            "\n",
            "2021-06-23 15:55:54 (14.2 MB/s) - ‘label_book.tar.gz?raw=true.7’ saved [82328/82328]\n",
            "\n"
          ],
          "name": "stdout"
        },
        {
          "output_type": "execute_result",
          "data": {
            "application/vnd.google.colaboratory.intrinsic+json": {
              "type": "string"
            },
            "text/plain": [
              "\"\\n!mkdir '/content/data_preprocessed/train/i'\\n!mkdir '/content/data_preprocessed/train/ii'\\n!mkdir '/content/data_preprocessed/train/iii'\\n!mkdir '/content/data_preprocessed/train/iv'\\n!mkdir '/content/data_preprocessed/train/v'\\n!mkdir '/content/data_preprocessed/train/vi'\\n!mkdir '/content/data_preprocessed/train/vii'\\n!mkdir '/content/data_preprocessed/train/viii'\\n!mkdir '/content/data_preprocessed/train/ix'\\n!mkdir '/content/data_preprocessed/train/x'\\n\\n!mkdir '/content/data_preprocessed/val/i'\\n!mkdir '/content/data_preprocessed/val/ii'\\n!mkdir '/content/data_preprocessed/val/iii'\\n!mkdir '/content/data_preprocessed/val/iv'\\n!mkdir '/content/data_preprocessed/val/v'\\n!mkdir '/content/data_preprocessed/val/vi'\\n!mkdir '/content/data_preprocessed/val/vii'\\n!mkdir '/content/data_preprocessed/val/viii'\\n!mkdir '/content/data_preprocessed/val/ix'\\n!mkdir '/content/data_preprocessed/val/x'\\n#!mkdir '/content/data_preprocessed/test'\\n\\n\""
            ]
          },
          "metadata": {
            "tags": []
          },
          "execution_count": 16
        }
      ]
    },
    {
      "cell_type": "code",
      "metadata": {
        "id": "GwHd1UkctAKZ"
      },
      "source": [
        ""
      ],
      "execution_count": null,
      "outputs": []
    },
    {
      "cell_type": "code",
      "metadata": {
        "colab": {
          "base_uri": "https://localhost:8080/",
          "height": 220
        },
        "id": "tG3kVe_pg44A",
        "outputId": "625c78df-4468-42b4-d207-554b1859f598"
      },
      "source": [
        "#read a file and convert to an array and back to an image\n",
        "img = load_img('/content/data_preprocessed/test/ii/a37502ee-ce5d-11eb-b317-38f9d35ea60f.png')\n",
        "img_numpy_array = img_to_array(img)\n",
        "print('shape', img_numpy_array.shape)\n",
        "#print(img_numpy_array)\n",
        "img_pil_from_numpy_array = array_to_img(img_numpy_array)\n",
        "img_pil_from_numpy_array"
      ],
      "execution_count": 8,
      "outputs": [
        {
          "output_type": "stream",
          "text": [
            "shape (186, 195, 3)\n"
          ],
          "name": "stdout"
        },
        {
          "output_type": "execute_result",
          "data": {
            "image/png": "[encoded data removed]",
            "text/plain": [
              "<PIL.Image.Image image mode=RGB size=195x186 at 0x7F2B0EEC2F10>"
            ]
          },
          "metadata": {
            "tags": []
          },
          "execution_count": 8
        }
      ]
    },
    {
      "cell_type": "code",
      "metadata": {
        "id": "QdTAiFV6lVa3"
      },
      "source": [
        "train_datagen = ImageDataGenerator(rotation_range=40,\n",
        "                                   width_shift_range=0.2,\n",
        "                                   height_shift_range=0.2,\n",
        "                                   rescale=1/255,\n",
        "                                   shear_range=0.2,\n",
        "                                   zoom_range=0.2,\n",
        "                                   horizontal_flip=True,\n",
        "                                   fill_mode='nearest')\n",
        "\n",
        "valid_datagen = ImageDataGenerator(rescale=1/255)"
      ],
      "execution_count": 17,
      "outputs": []
    },
    {
      "cell_type": "markdown",
      "metadata": {
        "id": "f_JggeQ0QJsc"
      },
      "source": [
        ""
      ]
    },
    {
      "cell_type": "code",
      "metadata": {
        "colab": {
          "base_uri": "https://localhost:8080/"
        },
        "id": "XTzOkz7meEZ5",
        "outputId": "2a55ded1-5e7a-4c92-b7fc-5d79dac9a8f4"
      },
      "source": [
        "class_names=[\"i\", \"ii\", \"iii\", \"iv\", \"v\", \"vi\", \"vii\", \"viii\", \"ix\", \"x\"]\n",
        "'''\n",
        "for class_name in class_names:\n",
        "  print(class_name)\n",
        "  train_generator = train_datagen.flow_from_directory(\n",
        "    '/content/data/train',\n",
        "    target_size=(32,32),\n",
        "    batch_size=500,\n",
        "    classes=[class_name],\n",
        "    save_to_dir='/content/data_preprocessed/train/'+class_name,\n",
        "    save_prefix='aug'\n",
        "  )\n",
        "  batch = next(train_generator)\n",
        "'''  \n",
        "for class_name in class_names:\n",
        "  #file_paths, _, _ = dataset_utils.index_directory('/content/data/val/'+class_name, 'inferred', ('.bmp', '.gif', '.jpeg', '.jpg', '.png'))\n",
        "  #print('/content/data/val/'+class_name,len(file_paths))\n",
        "  validation_generator = valid_datagen.flow_from_directory(\n",
        "        '/content/data/val',\n",
        "        target_size=(32, 32),\n",
        "        class_mode='categorical',\n",
        "        classes=[class_name],\n",
        "        batch_size=len(file_paths),\n",
        "        save_to_dir='/content/data_preprocessed/val/'+class_name)  \n",
        "  batch = next(validation_generator)"
      ],
      "execution_count": 23,
      "outputs": [
        {
          "output_type": "stream",
          "text": [
            "Found 82 images belonging to 1 classes.\n",
            "Found 81 images belonging to 1 classes.\n",
            "Found 79 images belonging to 1 classes.\n",
            "Found 84 images belonging to 1 classes.\n",
            "Found 83 images belonging to 1 classes.\n",
            "Found 82 images belonging to 1 classes.\n",
            "Found 77 images belonging to 1 classes.\n",
            "Found 83 images belonging to 1 classes.\n",
            "Found 81 images belonging to 1 classes.\n",
            "Found 81 images belonging to 1 classes.\n"
          ],
          "name": "stdout"
        }
      ]
    },
    {
      "cell_type": "code",
      "metadata": {
        "colab": {
          "base_uri": "https://localhost:8080/"
        },
        "id": "5Pbq82-FiOlv",
        "outputId": "2f7b2d8d-42b6-447f-dc10-54c31c7f7b60"
      },
      "source": [
        "directory = \"/content/data_preprocessed\"\n",
        "user_data = directory + \"/train\"\n",
        "valid_data = directory + \"/val\"\n",
        "test_data = directory + \"/test\" # this can be the label book, or any other test set you create\n",
        "\n",
        "### DO NOT MODIFY BELOW THIS LINE, THIS IS THE FIXED MODEL ###\n",
        "batch_size = 8\n",
        "tf.random.set_seed(123)\n",
        "\n",
        "\n",
        "if __name__ == \"__main__\":\n",
        "    train = tf.keras.preprocessing.image_dataset_from_directory(\n",
        "        user_data,# + '/train',\n",
        "        labels=\"inferred\",\n",
        "        label_mode=\"categorical\",\n",
        "        class_names=[\"i\", \"ii\", \"iii\", \"iv\", \"v\", \"vi\", \"vii\", \"viii\", \"ix\", \"x\"],\n",
        "        shuffle=True,\n",
        "        seed=123,\n",
        "        batch_size=batch_size,\n",
        "        image_size=(32, 32),\n",
        "    )\n",
        "\n",
        "    valid = tf.keras.preprocessing.image_dataset_from_directory(\n",
        "        user_data,# + '/val',\n",
        "        labels=\"inferred\",\n",
        "        label_mode=\"categorical\",\n",
        "        class_names=[\"i\", \"ii\", \"iii\", \"iv\", \"v\", \"vi\", \"vii\", \"viii\", \"ix\", \"x\"],\n",
        "        shuffle=True,\n",
        "        seed=123,\n",
        "        batch_size=batch_size,\n",
        "        image_size=(32, 32),\n",
        "    )\n",
        "\n",
        "    total_length = ((train.cardinality() + valid.cardinality()) * batch_size).numpy()\n",
        "    if total_length > 10_000:\n",
        "        print(f\"Dataset size larger than 10,000. Got {total_length} examples\")\n",
        "        sys.exit()\n",
        "\n",
        "    test = tf.keras.preprocessing.image_dataset_from_directory(\n",
        "        test_data,\n",
        "        labels=\"inferred\",\n",
        "        label_mode=\"categorical\",\n",
        "        class_names=[\"i\", \"ii\", \"iii\", \"iv\", \"v\", \"vi\", \"vii\", \"viii\", \"ix\", \"x\"],\n",
        "        shuffle=False,\n",
        "        seed=123,\n",
        "        batch_size=batch_size,\n",
        "        image_size=(32, 32),\n",
        "    )\n",
        "\n",
        "    base_model = tf.keras.applications.ResNet50(\n",
        "        input_shape=(32, 32, 3),\n",
        "        include_top=False,\n",
        "        weights=None,\n",
        "    )\n",
        "    base_model = tf.keras.Model(\n",
        "        base_model.inputs, outputs=[base_model.get_layer(\"conv2_block3_out\").output]\n",
        "    )\n",
        "\n",
        "    inputs = tf.keras.Input(shape=(32, 32, 3))\n",
        "    x = tf.keras.applications.resnet.preprocess_input(inputs)\n",
        "    x = base_model(x)\n",
        "    x = tf.keras.layers.GlobalAveragePooling2D()(x)\n",
        "    x = tf.keras.layers.Dense(10)(x)\n",
        "    model = tf.keras.Model(inputs, x)\n",
        "\n",
        "    model.compile(\n",
        "        optimizer=tf.keras.optimizers.Adam(lr=0.0001),\n",
        "        loss=tf.keras.losses.CategoricalCrossentropy(from_logits=True),\n",
        "        metrics=[\"accuracy\"],\n",
        "    )\n",
        "    model.summary()\n",
        "    loss_0, acc_0 = model.evaluate(valid)\n",
        "    print(f\"loss {loss_0}, acc {acc_0}\")\n",
        "\n",
        "    checkpoint = tf.keras.callbacks.ModelCheckpoint(\n",
        "        \"best_model\",\n",
        "        monitor=\"val_accuracy\",\n",
        "        mode=\"max\",\n",
        "        save_best_only=True,\n",
        "        save_weights_only=True,\n",
        "    )\n",
        "\n",
        "    history = model.fit(\n",
        "        train,\n",
        "        validation_data=valid,\n",
        "        epochs=100,\n",
        "        callbacks=[checkpoint],\n",
        "    )\n",
        "\n",
        "    model.load_weights(\"best_model\")\n",
        "\n",
        "    loss, acc = model.evaluate(valid)\n",
        "    print(f\"final loss {loss}, final acc {acc}\")\n",
        "\n",
        "    test_loss, test_acc = model.evaluate(test)\n",
        "    print(f\"test loss {test_loss}, test acc {test_acc}\")\n",
        "\n",
        "   "
      ],
      "execution_count": null,
      "outputs": [
        {
          "output_type": "stream",
          "text": [
            "Found 2067 files belonging to 10 classes.\n",
            "Found 2067 files belonging to 10 classes.\n",
            "Found 52 files belonging to 10 classes.\n"
          ],
          "name": "stdout"
        },
        {
          "output_type": "stream",
          "text": [
            "/usr/local/lib/python3.7/dist-packages/tensorflow/python/keras/optimizer_v2/optimizer_v2.py:375: UserWarning: The `lr` argument is deprecated, use `learning_rate` instead.\n",
            "  \"The `lr` argument is deprecated, use `learning_rate` instead.\")\n"
          ],
          "name": "stderr"
        },
        {
          "output_type": "stream",
          "text": [
            "Model: \"model_3\"\n",
            "_________________________________________________________________\n",
            "Layer (type)                 Output Shape              Param #   \n",
            "=================================================================\n",
            "input_4 (InputLayer)         [(None, 32, 32, 3)]       0         \n",
            "_________________________________________________________________\n",
            "tf.__operators__.getitem_1 ( (None, 32, 32, 3)         0         \n",
            "_________________________________________________________________\n",
            "tf.nn.bias_add_1 (TFOpLambda (None, 32, 32, 3)         0         \n",
            "_________________________________________________________________\n",
            "model_2 (Functional)         (None, 8, 8, 256)         229760    \n",
            "_________________________________________________________________\n",
            "global_average_pooling2d_1 ( (None, 256)               0         \n",
            "_________________________________________________________________\n",
            "dense_1 (Dense)              (None, 10)                2570      \n",
            "=================================================================\n",
            "Total params: 232,330\n",
            "Trainable params: 229,386\n",
            "Non-trainable params: 2,944\n",
            "_________________________________________________________________\n",
            "259/259 [==============================] - 4s 13ms/step - loss: 32.8702 - accuracy: 0.1132\n",
            "loss 32.870174407958984, acc 0.11320754885673523\n",
            "Epoch 1/100\n",
            "259/259 [==============================] - 14s 51ms/step - loss: 2.2102 - accuracy: 0.2032 - val_loss: 2.0980 - val_accuracy: 0.2332\n",
            "Epoch 2/100\n",
            "259/259 [==============================] - 13s 52ms/step - loss: 1.8955 - accuracy: 0.3377 - val_loss: 1.7657 - val_accuracy: 0.3672\n",
            "Epoch 3/100\n",
            "259/259 [==============================] - 13s 51ms/step - loss: 1.7477 - accuracy: 0.3933 - val_loss: 1.5708 - val_accuracy: 0.4678\n",
            "Epoch 4/100\n",
            "259/259 [==============================] - 13s 51ms/step - loss: 1.6375 - accuracy: 0.4267 - val_loss: 1.4992 - val_accuracy: 0.4785\n",
            "Epoch 5/100\n",
            "259/259 [==============================] - 13s 52ms/step - loss: 1.5381 - accuracy: 0.4872 - val_loss: 1.4780 - val_accuracy: 0.4335\n",
            "Epoch 6/100\n",
            "259/259 [==============================] - 13s 52ms/step - loss: 1.4207 - accuracy: 0.5264 - val_loss: 1.3259 - val_accuracy: 0.5578\n",
            "Epoch 7/100\n",
            "259/259 [==============================] - 13s 52ms/step - loss: 1.3133 - accuracy: 0.5806 - val_loss: 1.2525 - val_accuracy: 0.5752\n",
            "Epoch 8/100\n",
            "259/259 [==============================] - 13s 51ms/step - loss: 1.1798 - accuracy: 0.6270 - val_loss: 1.1399 - val_accuracy: 0.6004\n",
            "Epoch 9/100\n",
            "259/259 [==============================] - 13s 51ms/step - loss: 1.0533 - accuracy: 0.6759 - val_loss: 1.5081 - val_accuracy: 0.4673\n",
            "Epoch 10/100\n",
            "259/259 [==============================] - 13s 51ms/step - loss: 0.9739 - accuracy: 0.7073 - val_loss: 1.1362 - val_accuracy: 0.5936\n",
            "Epoch 11/100\n",
            "259/259 [==============================] - 13s 51ms/step - loss: 0.8505 - accuracy: 0.7581 - val_loss: 0.9095 - val_accuracy: 0.6792\n",
            "Epoch 12/100\n",
            "259/259 [==============================] - 13s 51ms/step - loss: 0.7305 - accuracy: 0.8060 - val_loss: 1.0577 - val_accuracy: 0.6130\n",
            "Epoch 13/100\n",
            "259/259 [==============================] - 13s 52ms/step - loss: 0.6214 - accuracy: 0.8394 - val_loss: 0.7586 - val_accuracy: 0.7446\n",
            "Epoch 14/100\n",
            "259/259 [==============================] - 13s 51ms/step - loss: 0.5325 - accuracy: 0.8708 - val_loss: 0.4481 - val_accuracy: 0.8621\n",
            "Epoch 15/100\n",
            "259/259 [==============================] - 13s 51ms/step - loss: 0.4528 - accuracy: 0.8911 - val_loss: 0.5669 - val_accuracy: 0.8273\n",
            "Epoch 16/100\n",
            "259/259 [==============================] - 13s 51ms/step - loss: 0.3847 - accuracy: 0.9173 - val_loss: 0.2530 - val_accuracy: 0.9555\n",
            "Epoch 17/100\n",
            "259/259 [==============================] - 13s 51ms/step - loss: 0.3258 - accuracy: 0.9366 - val_loss: 0.2767 - val_accuracy: 0.9371\n",
            "Epoch 18/100\n",
            "259/259 [==============================] - 13s 51ms/step - loss: 0.2862 - accuracy: 0.9482 - val_loss: 0.5097 - val_accuracy: 0.8258\n",
            "Epoch 19/100\n",
            "259/259 [==============================] - 13s 51ms/step - loss: 0.2622 - accuracy: 0.9521 - val_loss: 0.3367 - val_accuracy: 0.8994\n",
            "Epoch 20/100\n",
            "259/259 [==============================] - 13s 51ms/step - loss: 0.2351 - accuracy: 0.9526 - val_loss: 0.2934 - val_accuracy: 0.9090\n",
            "Epoch 21/100\n",
            "259/259 [==============================] - 13s 52ms/step - loss: 0.2092 - accuracy: 0.9618 - val_loss: 0.2389 - val_accuracy: 0.9342\n",
            "Epoch 22/100\n",
            "259/259 [==============================] - 13s 51ms/step - loss: 0.1830 - accuracy: 0.9686 - val_loss: 0.2434 - val_accuracy: 0.9347\n",
            "Epoch 23/100\n",
            "259/259 [==============================] - 13s 52ms/step - loss: 0.1685 - accuracy: 0.9710 - val_loss: 0.2898 - val_accuracy: 0.9139\n",
            "Epoch 24/100\n",
            "259/259 [==============================] - 13s 51ms/step - loss: 0.1638 - accuracy: 0.9695 - val_loss: 0.1064 - val_accuracy: 0.9850\n",
            "Epoch 25/100\n",
            "259/259 [==============================] - 13s 51ms/step - loss: 0.1430 - accuracy: 0.9763 - val_loss: 0.3082 - val_accuracy: 0.8916\n",
            "Epoch 26/100\n",
            "259/259 [==============================] - 13s 51ms/step - loss: 0.1621 - accuracy: 0.9661 - val_loss: 0.3102 - val_accuracy: 0.8926\n",
            "Epoch 27/100\n",
            "259/259 [==============================] - 13s 52ms/step - loss: 0.1629 - accuracy: 0.9690 - val_loss: 0.2101 - val_accuracy: 0.9390\n",
            "Epoch 28/100\n",
            "259/259 [==============================] - 13s 51ms/step - loss: 0.1550 - accuracy: 0.9647 - val_loss: 0.1700 - val_accuracy: 0.9482\n",
            "Epoch 29/100\n",
            "259/259 [==============================] - 13s 51ms/step - loss: 0.1197 - accuracy: 0.9797 - val_loss: 0.5750 - val_accuracy: 0.7973\n",
            "Epoch 30/100\n",
            "259/259 [==============================] - 13s 52ms/step - loss: 0.1045 - accuracy: 0.9806 - val_loss: 0.1022 - val_accuracy: 0.9748\n",
            "Epoch 31/100\n",
            "259/259 [==============================] - 14s 52ms/step - loss: 0.1239 - accuracy: 0.9744 - val_loss: 1.2944 - val_accuracy: 0.6009\n",
            "Epoch 32/100\n",
            "259/259 [==============================] - 13s 52ms/step - loss: 0.1105 - accuracy: 0.9758 - val_loss: 0.3929 - val_accuracy: 0.8641\n",
            "Epoch 33/100\n",
            "259/259 [==============================] - 13s 51ms/step - loss: 0.0823 - accuracy: 0.9874 - val_loss: 0.0320 - val_accuracy: 0.9976\n",
            "Epoch 34/100\n",
            "259/259 [==============================] - 13s 51ms/step - loss: 0.0941 - accuracy: 0.9831 - val_loss: 0.2167 - val_accuracy: 0.9294\n",
            "Epoch 35/100\n",
            "259/259 [==============================] - 13s 52ms/step - loss: 0.1235 - accuracy: 0.9724 - val_loss: 0.2322 - val_accuracy: 0.9221\n",
            "Epoch 36/100\n",
            "259/259 [==============================] - 13s 52ms/step - loss: 0.1067 - accuracy: 0.9773 - val_loss: 0.1416 - val_accuracy: 0.9666\n",
            "Epoch 37/100\n",
            "259/259 [==============================] - 13s 52ms/step - loss: 0.0786 - accuracy: 0.9860 - val_loss: 0.0743 - val_accuracy: 0.9792\n",
            "Epoch 38/100\n",
            "259/259 [==============================] - 13s 51ms/step - loss: 0.0728 - accuracy: 0.9855 - val_loss: 0.0644 - val_accuracy: 0.9850\n",
            "Epoch 39/100\n",
            "259/259 [==============================] - 13s 52ms/step - loss: 0.0860 - accuracy: 0.9811 - val_loss: 0.2369 - val_accuracy: 0.9294\n",
            "Epoch 40/100\n",
            "259/259 [==============================] - 13s 52ms/step - loss: 0.0860 - accuracy: 0.9831 - val_loss: 0.0684 - val_accuracy: 0.9836\n",
            "Epoch 41/100\n",
            "259/259 [==============================] - 13s 51ms/step - loss: 0.1081 - accuracy: 0.9724 - val_loss: 0.7177 - val_accuracy: 0.7629\n",
            "Epoch 42/100\n",
            "259/259 [==============================] - 13s 51ms/step - loss: 0.1176 - accuracy: 0.9671 - val_loss: 0.1715 - val_accuracy: 0.9400\n",
            "Epoch 43/100\n",
            "259/259 [==============================] - 13s 51ms/step - loss: 0.0880 - accuracy: 0.9763 - val_loss: 0.0628 - val_accuracy: 0.9816\n",
            "Epoch 44/100\n",
            "259/259 [==============================] - 14s 52ms/step - loss: 0.0500 - accuracy: 0.9937 - val_loss: 0.3895 - val_accuracy: 0.8887\n",
            "Epoch 45/100\n",
            "259/259 [==============================] - 13s 52ms/step - loss: 0.0584 - accuracy: 0.9884 - val_loss: 0.0470 - val_accuracy: 0.9874\n",
            "Epoch 46/100\n",
            "259/259 [==============================] - 13s 52ms/step - loss: 0.0785 - accuracy: 0.9792 - val_loss: 0.1663 - val_accuracy: 0.9448\n",
            "Epoch 47/100\n",
            "259/259 [==============================] - 13s 52ms/step - loss: 0.0833 - accuracy: 0.9806 - val_loss: 0.1278 - val_accuracy: 0.9618\n",
            "Epoch 48/100\n",
            "259/259 [==============================] - 14s 52ms/step - loss: 0.0862 - accuracy: 0.9826 - val_loss: 0.0562 - val_accuracy: 0.9869\n",
            "Epoch 49/100\n",
            "259/259 [==============================] - 13s 52ms/step - loss: 0.0592 - accuracy: 0.9869 - val_loss: 0.1371 - val_accuracy: 0.9594\n",
            "Epoch 50/100\n",
            "259/259 [==============================] - 13s 52ms/step - loss: 0.0652 - accuracy: 0.9850 - val_loss: 0.0294 - val_accuracy: 0.9947\n",
            "Epoch 51/100\n",
            "259/259 [==============================] - 13s 52ms/step - loss: 0.0839 - accuracy: 0.9753 - val_loss: 0.2370 - val_accuracy: 0.9173\n",
            "Epoch 52/100\n",
            "259/259 [==============================] - 13s 52ms/step - loss: 0.0636 - accuracy: 0.9850 - val_loss: 0.0842 - val_accuracy: 0.9734\n",
            "Epoch 53/100\n",
            "259/259 [==============================] - 13s 52ms/step - loss: 0.0629 - accuracy: 0.9884 - val_loss: 0.1767 - val_accuracy: 0.9376\n",
            "Epoch 54/100\n",
            "259/259 [==============================] - 14s 53ms/step - loss: 0.0613 - accuracy: 0.9865 - val_loss: 0.2576 - val_accuracy: 0.9158\n",
            "Epoch 55/100\n",
            "259/259 [==============================] - 14s 52ms/step - loss: 0.0932 - accuracy: 0.9763 - val_loss: 0.3206 - val_accuracy: 0.8979\n",
            "Epoch 56/100\n",
            "259/259 [==============================] - 14s 52ms/step - loss: 0.0666 - accuracy: 0.9826 - val_loss: 0.0759 - val_accuracy: 0.9797\n",
            "Epoch 57/100\n",
            "259/259 [==============================] - 14s 53ms/step - loss: 0.0543 - accuracy: 0.9855 - val_loss: 0.0846 - val_accuracy: 0.9729\n",
            "Epoch 58/100\n",
            "259/259 [==============================] - 13s 52ms/step - loss: 0.0672 - accuracy: 0.9840 - val_loss: 0.1987 - val_accuracy: 0.9318\n",
            "Epoch 59/100\n",
            "259/259 [==============================] - 13s 52ms/step - loss: 0.0528 - accuracy: 0.9884 - val_loss: 0.0177 - val_accuracy: 0.9976\n",
            "Epoch 60/100\n",
            "259/259 [==============================] - 14s 52ms/step - loss: 0.0551 - accuracy: 0.9855 - val_loss: 0.1382 - val_accuracy: 0.9536\n",
            "Epoch 61/100\n",
            "259/259 [==============================] - 14s 52ms/step - loss: 0.0454 - accuracy: 0.9908 - val_loss: 0.0231 - val_accuracy: 0.9952\n",
            "Epoch 62/100\n",
            "259/259 [==============================] - 13s 52ms/step - loss: 0.0462 - accuracy: 0.9879 - val_loss: 0.0298 - val_accuracy: 0.9923\n",
            "Epoch 63/100\n",
            "259/259 [==============================] - 13s 51ms/step - loss: 0.0540 - accuracy: 0.9855 - val_loss: 0.0765 - val_accuracy: 0.9792\n",
            "Epoch 64/100\n",
            "259/259 [==============================] - 13s 52ms/step - loss: 0.0682 - accuracy: 0.9840 - val_loss: 0.1253 - val_accuracy: 0.9627\n",
            "Epoch 65/100\n",
            "259/259 [==============================] - 14s 52ms/step - loss: 0.0795 - accuracy: 0.9768 - val_loss: 0.8955 - val_accuracy: 0.7291\n",
            "Epoch 66/100\n",
            "259/259 [==============================] - 13s 52ms/step - loss: 0.0892 - accuracy: 0.9753 - val_loss: 0.8800 - val_accuracy: 0.7828\n",
            "Epoch 67/100\n",
            "259/259 [==============================] - 13s 52ms/step - loss: 0.0593 - accuracy: 0.9884 - val_loss: 0.0285 - val_accuracy: 0.9942\n",
            "Epoch 68/100\n",
            "259/259 [==============================] - 13s 51ms/step - loss: 0.0526 - accuracy: 0.9874 - val_loss: 0.2764 - val_accuracy: 0.9173\n",
            "Epoch 69/100\n",
            "259/259 [==============================] - 13s 52ms/step - loss: 0.0474 - accuracy: 0.9903 - val_loss: 0.1145 - val_accuracy: 0.9618\n",
            "Epoch 70/100\n",
            "259/259 [==============================] - 14s 52ms/step - loss: 0.0456 - accuracy: 0.9903 - val_loss: 0.0247 - val_accuracy: 0.9952\n",
            "Epoch 71/100\n",
            "259/259 [==============================] - 14s 52ms/step - loss: 0.0415 - accuracy: 0.9889 - val_loss: 0.0863 - val_accuracy: 0.9739\n",
            "Epoch 72/100\n",
            "259/259 [==============================] - 14s 52ms/step - loss: 0.0629 - accuracy: 0.9869 - val_loss: 0.3495 - val_accuracy: 0.8907\n",
            "Epoch 73/100\n",
            "259/259 [==============================] - 14s 53ms/step - loss: 0.0367 - accuracy: 0.9927 - val_loss: 0.0212 - val_accuracy: 0.9985\n",
            "Epoch 74/100\n",
            "259/259 [==============================] - 14s 52ms/step - loss: 0.0769 - accuracy: 0.9802 - val_loss: 0.1662 - val_accuracy: 0.9453\n",
            "Epoch 75/100\n",
            "259/259 [==============================] - 13s 52ms/step - loss: 0.0547 - accuracy: 0.9845 - val_loss: 0.2950 - val_accuracy: 0.9057\n",
            "Epoch 76/100\n",
            "259/259 [==============================] - 14s 52ms/step - loss: 0.0528 - accuracy: 0.9879 - val_loss: 0.2352 - val_accuracy: 0.9211\n",
            "Epoch 77/100\n",
            "259/259 [==============================] - 14s 52ms/step - loss: 0.0513 - accuracy: 0.9855 - val_loss: 0.0207 - val_accuracy: 0.9942\n",
            "Epoch 78/100\n",
            "259/259 [==============================] - 14s 52ms/step - loss: 0.0304 - accuracy: 0.9942 - val_loss: 0.0388 - val_accuracy: 0.9894\n",
            "Epoch 79/100\n",
            "259/259 [==============================] - 14s 52ms/step - loss: 0.0310 - accuracy: 0.9947 - val_loss: 0.0108 - val_accuracy: 0.9971\n",
            "Epoch 80/100\n",
            "259/259 [==============================] - 14s 53ms/step - loss: 0.0296 - accuracy: 0.9947 - val_loss: 0.0348 - val_accuracy: 0.9898\n",
            "Epoch 81/100\n",
            "259/259 [==============================] - 14s 52ms/step - loss: 0.0526 - accuracy: 0.9874 - val_loss: 0.3683 - val_accuracy: 0.8795\n",
            "Epoch 82/100\n",
            "259/259 [==============================] - 13s 52ms/step - loss: 0.0461 - accuracy: 0.9898 - val_loss: 0.2330 - val_accuracy: 0.9187\n",
            "Epoch 83/100\n",
            "259/259 [==============================] - 14s 52ms/step - loss: 0.0362 - accuracy: 0.9908 - val_loss: 0.0263 - val_accuracy: 0.9937\n",
            "Epoch 84/100\n",
            "259/259 [==============================] - 14s 52ms/step - loss: 0.0507 - accuracy: 0.9869 - val_loss: 0.2100 - val_accuracy: 0.9342\n",
            "Epoch 85/100\n",
            "259/259 [==============================] - 13s 52ms/step - loss: 0.0585 - accuracy: 0.9826 - val_loss: 0.0685 - val_accuracy: 0.9821\n",
            "Epoch 86/100\n",
            "259/259 [==============================] - 13s 52ms/step - loss: 0.0475 - accuracy: 0.9894 - val_loss: 0.0668 - val_accuracy: 0.9797\n",
            "Epoch 87/100\n",
            "259/259 [==============================] - 14s 53ms/step - loss: 0.0678 - accuracy: 0.9806 - val_loss: 0.2431 - val_accuracy: 0.9250\n",
            "Epoch 88/100\n",
            "259/259 [==============================] - 13s 52ms/step - loss: 0.0405 - accuracy: 0.9908 - val_loss: 0.0296 - val_accuracy: 0.9932\n",
            "Epoch 89/100\n",
            "259/259 [==============================] - 13s 52ms/step - loss: 0.0265 - accuracy: 0.9961 - val_loss: 0.0216 - val_accuracy: 0.9952\n",
            "Epoch 90/100\n",
            "259/259 [==============================] - 14s 52ms/step - loss: 0.0325 - accuracy: 0.9923 - val_loss: 0.3716 - val_accuracy: 0.8902\n",
            "Epoch 91/100\n",
            "259/259 [==============================] - 13s 52ms/step - loss: 0.0398 - accuracy: 0.9923 - val_loss: 0.0678 - val_accuracy: 0.9802\n",
            "Epoch 92/100\n",
            "259/259 [==============================] - 13s 52ms/step - loss: 0.0332 - accuracy: 0.9913 - val_loss: 0.0357 - val_accuracy: 0.9874\n",
            "Epoch 93/100\n",
            "259/259 [==============================] - 13s 51ms/step - loss: 0.0221 - accuracy: 0.9961 - val_loss: 0.0370 - val_accuracy: 0.9908\n",
            "Epoch 94/100\n",
            "259/259 [==============================] - 13s 52ms/step - loss: 0.0340 - accuracy: 0.9903 - val_loss: 0.2560 - val_accuracy: 0.9158\n",
            "Epoch 95/100\n",
            "259/259 [==============================] - 13s 52ms/step - loss: 0.0376 - accuracy: 0.9913 - val_loss: 0.0448 - val_accuracy: 0.9884\n",
            "Epoch 96/100\n",
            "259/259 [==============================] - 13s 52ms/step - loss: 0.0705 - accuracy: 0.9802 - val_loss: 0.1580 - val_accuracy: 0.9540\n",
            "Epoch 97/100\n",
            "259/259 [==============================] - 13s 52ms/step - loss: 0.0432 - accuracy: 0.9903 - val_loss: 0.0730 - val_accuracy: 0.9782\n",
            "Epoch 98/100\n",
            "259/259 [==============================] - 14s 53ms/step - loss: 0.0513 - accuracy: 0.9865 - val_loss: 0.1055 - val_accuracy: 0.9632\n",
            "Epoch 99/100\n",
            "259/259 [==============================] - 14s 53ms/step - loss: 0.0594 - accuracy: 0.9821 - val_loss: 0.0107 - val_accuracy: 0.9981\n",
            "Epoch 100/100\n",
            "259/259 [==============================] - 14s 53ms/step - loss: 0.0549 - accuracy: 0.9831 - val_loss: 0.6375 - val_accuracy: 0.7958\n",
            "259/259 [==============================] - 4s 14ms/step - loss: 0.0212 - accuracy: 0.9985\n",
            "final loss 0.02123309299349785, final acc 0.9985486268997192\n",
            "7/7 [==============================] - 0s 16ms/step - loss: 5.0262 - accuracy: 0.2500\n",
            "test loss 5.026183128356934, test acc 0.25\n"
          ],
          "name": "stdout"
        }
      ]
    },
    {
      "cell_type": "code",
      "metadata": {
        "colab": {
          "base_uri": "https://localhost:8080/"
        },
        "id": "JGls3sgs102I",
        "outputId": "5bbcd502-320b-49e2-c81d-eba9ab592dd6"
      },
      "source": [
        "pred_classes = model.predict(test).argmax(axis=-1) + 1\n",
        "\n",
        "pred_classes"
      ],
      "execution_count": null,
      "outputs": [
        {
          "output_type": "execute_result",
          "data": {
            "text/plain": [
              "array([10,  3,  1,  1, 10,  3,  8,  9,  3,  2,  7,  9, 10,  9,  3,  6,  3,\n",
              "        8,  3,  7, 10,  9, 10,  3,  4,  8,  7,  3,  1,  5, 10,  1,  1,  8,\n",
              "       10,  3,  4,  7,  7,  7,  8,  3, 10,  7,  8,  8,  8,  5, 10,  1,  1,\n",
              "        1])"
            ]
          },
          "metadata": {
            "tags": []
          },
          "execution_count": 133
        }
      ]
    },
    {
      "cell_type": "code",
      "metadata": {
        "colab": {
          "base_uri": "https://localhost:8080/",
          "height": 309
        },
        "id": "2oxGnyV-5GuZ",
        "outputId": "8e969a60-204b-46c9-bdee-1e14206ab25f"
      },
      "source": [
        "#read a file and convert to an array and back to an image\n",
        "img = load_img('/content/data_preprocessed/test/ii/a3ef6ed0-ce5d-11eb-b317-38f9d35ea60f.png')\n",
        "img_numpy_array = img_to_array(img)\n",
        "print('shape', img_numpy_array.shape)\n",
        "#print(img_numpy_array)\n",
        "img_pil_from_numpy_array = array_to_img(img_numpy_array)\n",
        "img_pil_from_numpy_array"
      ],
      "execution_count": null,
      "outputs": [
        {
          "output_type": "stream",
          "text": [
            "shape (275, 269, 3)\n"
          ],
          "name": "stdout"
        },
        {
          "output_type": "execute_result",
          "data": {
            "image/png": "[encoded data removed]",
            "text/plain": [
              "<PIL.Image.Image image mode=RGB size=269x275 at 0x7FFA6D5A5F50>"
            ]
          },
          "metadata": {
            "tags": []
          },
          "execution_count": 143
        }
      ]
    },
    {
      "cell_type": "code",
      "metadata": {
        "colab": {
          "base_uri": "https://localhost:8080/",
          "height": 241
        },
        "id": "2_CzZB7t5awv",
        "outputId": "2c412048-9379-4332-83a4-6e7841981074"
      },
      "source": [
        "for i,j in test:\n",
        "  img_pil_from_numpy_array = array_to_img(i[0,:,:,:])\n",
        "  display(img_pil_from_numpy_array)"
      ],
      "execution_count": null,
      "outputs": [
        {
          "output_type": "display_data",
          "data": {
            "image/png": "[encoded data removed]",
            "text/plain": [
              "<PIL.Image.Image image mode=RGB size=32x32 at 0x7FFA6D0695D0>"
            ]
          },
          "metadata": {
            "tags": []
          }
        },
        {
          "output_type": "display_data",
          "data": {
            "image/png": "[encoded data removed]",
            "text/plain": [
              "<PIL.Image.Image image mode=RGB size=32x32 at 0x7FFA6C9EB950>"
            ]
          },
          "metadata": {
            "tags": []
          }
        },
        {
          "output_type": "display_data",
          "data": {
            "image/png": "[encoded data removed]",
            "text/plain": [
              "<PIL.Image.Image image mode=RGB size=32x32 at 0x7FFA69E5FDD0>"
            ]
          },
          "metadata": {
            "tags": []
          }
        },
        {
          "output_type": "display_data",
          "data": {
            "image/png": "[encoded data removed]",
            "text/plain": [
              "<PIL.Image.Image image mode=RGB size=32x32 at 0x7FFA6D0695D0>"
            ]
          },
          "metadata": {
            "tags": []
          }
        },
        {
          "output_type": "display_data",
          "data": {
            "image/png": "[encoded data removed]",
            "text/plain": [
              "<PIL.Image.Image image mode=RGB size=32x32 at 0x7FFA66517310>"
            ]
          },
          "metadata": {
            "tags": []
          }
        },
        {
          "output_type": "display_data",
          "data": {
            "image/png": "[encoded data removed]",
            "text/plain": [
              "<PIL.Image.Image image mode=RGB size=32x32 at 0x7FFA71CAA910>"
            ]
          },
          "metadata": {
            "tags": []
          }
        },
        {
          "output_type": "display_data",
          "data": {
            "image/png": "[encoded data removed]",
            "text/plain": [
              "<PIL.Image.Image image mode=RGB size=32x32 at 0x7FFA6C9EB950>"
            ]
          },
          "metadata": {
            "tags": []
          }
        }
      ]
    }
  ]
}